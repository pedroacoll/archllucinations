{
 "cells": [
  {
   "cell_type": "markdown",
   "metadata": {
    "colab_type": "text",
    "id": "view-in-github"
   },
   "source": [
    "<a href=\"https://colab.research.google.com/github/narfdf999/Arquitectura/blob/master/Autoencoder.ipynb\" target=\"_parent\"><img src=\"https://colab.research.google.com/assets/colab-badge.svg\" alt=\"Open In Colab\"/></a>"
   ]
  },
  {
   "cell_type": "code",
   "execution_count": 0,
   "metadata": {
    "colab": {},
    "colab_type": "code",
    "id": "6M_ZTNwIrLiD"
   },
   "outputs": [],
   "source": [
    "import numpy as np\n",
    "import matplotlib.pyplot as plt\n",
    "import os\n",
    "import glob\n",
    "import keras\n",
    "from keras.layers import Dense, Input, Conv2D, MaxPooling2D, Flatten, Conv2DTranspose, Reshape\n",
    "from keras.layers import Input, Dense, Conv2D, MaxPooling2D, UpSampling2D\n",
    "from keras.models import Model ,Sequential, load_model\n",
    "from keras.layers.advanced_activations import LeakyReLU\n",
    "from keras import backend as K\n",
    "from keras.optimizers import Adam\n",
    "\n"
   ]
  },
  {
   "cell_type": "code",
   "execution_count": 1,
   "metadata": {
    "colab": {
     "base_uri": "https://localhost:8080/",
     "height": 122
    },
    "colab_type": "code",
    "id": "yAgDrB90Vw_n",
    "outputId": "1ed73b06-95ac-4e3a-9573-428896f9bd49"
   },
   "outputs": [
    {
     "name": "stdout",
     "output_type": "stream",
     "text": [
      "Go to this URL in a browser: https://accounts.google.com/o/oauth2/auth?client_id=947318989803-6bn6qk8qdgf4n4g3pfee6491hc0brc4i.apps.googleusercontent.com&redirect_uri=urn%3aietf%3awg%3aoauth%3a2.0%3aoob&response_type=code&scope=email%20https%3a%2f%2fwww.googleapis.com%2fauth%2fdocs.test%20https%3a%2f%2fwww.googleapis.com%2fauth%2fdrive%20https%3a%2f%2fwww.googleapis.com%2fauth%2fdrive.photos.readonly%20https%3a%2f%2fwww.googleapis.com%2fauth%2fpeopleapi.readonly\n",
      "\n",
      "Enter your authorization code:\n",
      "··········\n",
      "Mounted at /content/drive\n"
     ]
    }
   ],
   "source": [
    "from google.colab import drive\n",
    "drive.mount('/content/drive')"
   ]
  },
<<<<<<< HEAD
  {
   "cell_type": "code",
   "execution_count": 19,
   "metadata": {
    "colab": {
     "base_uri": "https://localhost:8080/",
     "height": 1000
=======
  "cells": [
    {
      "cell_type": "markdown",
      "metadata": {
        "id": "view-in-github",
        "colab_type": "text"
      },
      "source": [
        "<a href=\"https://colab.research.google.com/github/narfdf999/Arquitectura/blob/master/Autoencoder.ipynb\" target=\"_parent\"><img src=\"https://colab.research.google.com/assets/colab-badge.svg\" alt=\"Open In Colab\"/></a>"
      ]
    },
    {
      "cell_type": "code",
      "metadata": {
        "id": "yAgDrB90Vw_n",
        "colab_type": "code",
        "outputId": "bd702d3a-013a-404f-dbca-cefb5f08b8fd",
        "colab": {
          "base_uri": "https://localhost:8080/",
          "height": 122
        }
      },
      "source": [
        "from google.colab import drive\n",
        "drive.mount('/content/drive')"
      ],
      "execution_count": 2,
      "outputs": [
        {
          "output_type": "stream",
          "text": [
            "Go to this URL in a browser: https://accounts.google.com/o/oauth2/auth?client_id=947318989803-6bn6qk8qdgf4n4g3pfee6491hc0brc4i.apps.googleusercontent.com&redirect_uri=urn%3aietf%3awg%3aoauth%3a2.0%3aoob&response_type=code&scope=email%20https%3a%2f%2fwww.googleapis.com%2fauth%2fdocs.test%20https%3a%2f%2fwww.googleapis.com%2fauth%2fdrive%20https%3a%2f%2fwww.googleapis.com%2fauth%2fdrive.photos.readonly%20https%3a%2f%2fwww.googleapis.com%2fauth%2fpeopleapi.readonly\n",
            "\n",
            "Enter your authorization code:\n",
            "··········\n",
            "Mounted at /content/drive\n"
          ],
          "name": "stdout"
        }
      ]
    },
    {
      "cell_type": "code",
      "metadata": {
        "id": "6M_ZTNwIrLiD",
        "colab_type": "code",
        "colab": {}
      },
      "source": [
        "import numpy as np\n",
        "import matplotlib.pyplot as plt\n",
        "import os\n",
        "import glob\n",
        "from keras.layers import Input, Dense, Conv2D, MaxPooling2D, UpSampling2D, Flatten, BatchNormalization, Reshape, Conv2DTranspose\n",
        "from keras.models import Model ,Sequential, load_model\n",
        "from keras.optimizers import Adam\n",
        "from keras import backend as K\n",
        "\n"
      ],
      "execution_count": 0,
      "outputs": []
    },
    {
      "cell_type": "code",
      "metadata": {
        "id": "gK9Cxgih7R_T",
        "colab_type": "code",
        "colab": {}
      },
      "source": [
        "#Load Dataset\n",
        "def load_data():\n",
        "  path = '/content/drive/My Drive/1260_mercator'\n",
        "  x_train = np.load('/content/drive/My Drive/1260_mercator/01a.npy')\n",
        "\n",
        "  for filename in glob.glob(os.path.join(path, '*.npy')):\n",
        "    if(filename != '/content/drive/My Drive/1260_mercator/01a.npy'):\n",
        "      print(filename)\n",
        "      aux=np.load(filename)\n",
        "      print(x_train.shape)\n",
        "      print(aux.shape)\n",
        "      x_train=np.concatenate((x_train,aux),axis = 0)  \n",
        "\n",
        "  return x_train\n",
        "\n",
        "x_train = load_data()\n",
        "print(x_train)"
      ],
      "execution_count": 0,
      "outputs": []
    },
    {
      "cell_type": "code",
      "metadata": {
        "id": "sflG0STWcq6P",
        "colab_type": "code",
        "colab": {}
      },
      "source": [
        "np.save('/content/drive/My Drive/1260_mercator/mercator_total.npy',x_train)"
      ],
      "execution_count": 0,
      "outputs": []
    },
    {
      "cell_type": "code",
      "metadata": {
        "id": "jFVLioYX70Nb",
        "colab_type": "code",
        "colab": {}
      },
      "source": [
        "#Add Noise to our MNNIST Dataset by sampling random values from Gaussian distribution by using np.random.normal() and adding it to our original images to change pixel values\n",
        "\n",
        "noise_factor = 0.5\n",
        "x_train_noisy = x_train + noise_factor * np.random.normal(loc=0.0, scale=1.0, size=x_train.shape)\n",
        "print(x_train_noisy)\n",
        "\n"
      ],
      "execution_count": 0,
      "outputs": []
    },
    {
      "cell_type": "code",
      "metadata": {
        "id": "eVVD9lNUebln",
        "colab_type": "code",
        "colab": {}
      },
      "source": [
        "np.save('/content/drive/My Drive/1260_mercator/mercator_total_noisy1.npy',x_train_noisy)"
      ],
      "execution_count": 0,
      "outputs": []
    },
    {
      "cell_type": "code",
      "metadata": {
        "id": "C205la_quPs-",
        "colab_type": "code",
        "colab": {}
      },
      "source": [
        "x_train = np.load('/content/drive/My Drive/1260_mercator/mercator_total.npy')"
      ],
      "execution_count": 0,
      "outputs": []
    },
    {
      "cell_type": "code",
      "metadata": {
        "id": "X6iGztIrdr9S",
        "colab_type": "code",
        "outputId": "c808de5c-e5bd-4243-8a0c-fa4ced1fbb04",
        "colab": {
          "base_uri": "https://localhost:8080/",
          "height": 183
        }
      },
      "source": [
        "plt.imshow(x_train[120],vmin=-1,vmax=1)"
      ],
      "execution_count": 7,
      "outputs": [
        {
          "output_type": "execute_result",
          "data": {
            "text/plain": [
              "<matplotlib.image.AxesImage at 0x7f77dcff5e80>"
            ]
          },
          "metadata": {
            "tags": []
          },
          "execution_count": 7
        },
        {
          "output_type": "display_data",
          "data": {
            "image/png": "iVBORw0KGgoAAAANSUhEUgAAAXAAAACVCAYAAABB56G6AAAABHNCSVQICAgIfAhkiAAAAAlwSFlz\nAAALEgAACxIB0t1+/AAAADh0RVh0U29mdHdhcmUAbWF0cGxvdGxpYiB2ZXJzaW9uMy4xLjIsIGh0\ndHA6Ly9tYXRwbG90bGliLm9yZy8li6FKAAAN8ElEQVR4nO3db4wd1X3G8efZ9S5rOSjgYCwENKQt\naoWSxlVXVtKiikCIHINCkBIUq5VQFMV90UiJ1CqieZM2UqS0VZrmRVXJSVxcqSGgtjSoQU1cikSq\nVoSFpAn511BihF2HxRiKMTZmd399cYey3XsO986duXf3zH4/krU7586dOWfuub8dz/nniBAAoDxT\n650BAMBoCOAAUCgCOAAUigAOAIUigANAoQjgAFCoRgHc9h7bP7b9mO3b2soUAGAwj9oP3Pa0pP+U\ndL2ko5IekrQvIn6Qe8/s1FxsnTp/pPMBwGb1/PKJExGxY236lgbH3C3psYh4XJJsf0XSTZKyAXzr\n1Pl6++tvbnBKANh8vn7yC0+k0ps8QrlU0pOrto9Waf+P7f22F2wvnIuzDU4HAFht7I2YEXEgIuYj\nYn7Wc+M+HQBsGk0C+DFJl6/avqxKAwBMQJMA/pCkK22/yfaspA9IuqedbAEABhm5ETMilmx/RNLX\nJU1LOhgR328tZwCA19SkF4oi4l5J97aUFwBADYzEBIBCEcABoFCNHqHUFqFYWproKYfl2Zn1zgKA\ntq0kRprHytD75kaq204fY2ayIZU7cAAoFAEcAApFAAeAQhHAAaBQBHAAKNRkm0xteXoMfzNmZts/\nJsqX622wnEmvc4xxcY3vx1SmJ0Sqh0Sd4250K8v9acuJNEmR+qxXMp9pqsdJZt+YSl9Ppz6TMcan\nDn2qALC5EMABoFAEcAAoFAEcAAo14UZMSdPTzQ4xS4Ml+sXLL/cn5qZtSA2vzh13xEW/R2XXOF/k\nGjET92WZr523JEJAbpj4BhFnzvWn5RqmU42buUbM1LlyQ+lzjZuJfExtzVz81LFrXnvuwAGgUARw\nACgUARwACkUAB4BCEcABoFCNeqHYPiLplKRlSUsRMT/gDfLMkAsnzJ3XJGvYbM6+1J+W6W1Sq2dJ\njR4LbcgN0U5xLmtTiRfSI80ViYN429ah87AuTr/Yn9bC51SnXtTqnXJeuudcnDnb//6aca+NboTv\niIgTLRwHAFADj1AAoFBNA3hI+obth23vT+1ge7/tBdsL51bONDwdAOAVTR+hXB0Rx2xfLOmw7R9F\nxAOrd4iIA5IOSNLrZy+e7LA2AOiwRnfgEXGs+rko6W5Ju9vIFABgsJHvwG1vkzQVEaeq398l6VMD\n3pRtkV0rttILBTU89z99SRPvbZI7X535LerM05FbVCB1iFTPFCm5YMVG/+4lP9fctU9cz3r1IrNv\nbjGNhOz1PN3/SDlmh+ylV2nyCGWnpLvdq5xbJH05Iv6pwfEAADWMHMAj4nFJb20xLwCAGuhGCACF\nIoADQKEmu6DD1JRiyKGiK6+bG3NmUCKfSSzcoN5aIUOr02DZxoIOdY4x6cUU6iwqkClHne/q1Av9\nw8ezNvjCEkmJa5S7PlNPJ+phzfrGHTgAFIoADgCFIoADQKEI4ABQKAI4ABRqor1QVmandfaNF0zy\nlOiYuRfPjefAbfQ22SBSQ8Vdr59OLecuHH7o/dzziRlJawxLlzS+RTZyw+Ybyl2fuZ8mEumFAgCb\nAwEcAApFAAeAQhHAAaBQBHAAKNRke6HMWKcurTdhObDa3NHu9BZJqrMoRK43Rmqhh1wPi+kaecgc\no853eu6J4Y/bldvL3PWZe6T5sTtyiQBg8yGAA0ChCOAAUCgCOAAUamAjpu2Dkm6UtBgRb67Stku6\nU9IVko5IuiUinm0zYyeuTk/cj81tx4OZF8Y0DBqD1fmu7vi3MWZkg4pclG1h+oZh7sBvl7RnTdpt\nku6LiCsl3VdtAwAmaGAAj4gHJJ1ck3yTpEPV74ckvbflfAEABhj1GfjOiDhe/f4zSTtzO9reb3vB\n9sLS2dMjng4AsFbjRszozV2ZfZgTEQciYj4i5rfMbWt6OgBAZdQA/pTtSySp+rnYXpYAAMMYdSj9\nPZJulfSZ6udXW8tR5afv/mLbh0QH7P3sLeudBaxR57u690/eN8acbD4D78Bt3yHp3yX9ku2jtj+k\nXuC+3vZPJL2z2gYATNDAO/CI2Jd56bqW8wIAqIGRmABQKAI4ABSKAA4AhSKAA0ChCOAAUCgCOAAU\nigAOAIUigANAoSa6Kr1c/QPaNtVfsbzz4rGdLp7877EdeywS1weTcdEjz6dfcPPPhDtwACgUARwA\nCkUAB4BCEcABoFAEcAAo1ER7oWw5vayLFp7tS4/zZvrSrt/3weQxDt/xV63nCxvT3ncmFm9YWh76\n/T77UvqF5ZVEWua4kV4tMLuGYFN1eiZMpe+/3LR3Q+79mdu9vde9f/hjp46RO1/m2ifLnfv8NoDp\nZ04l01Ol80q9msUdOAAUigAOAIUigANAoQjgAFCogY2Ytg9KulHSYkS8uUr7Q0kflvR0tdsnIuLe\ngWdbWtbUM4lhpYlGienp9N+Wvb9581DvlyRtme5Luvef73rNLGJ8bvj196RfSDUqSvLKC4l9041V\n4f46EC+eTZ8vEufLNZjlGpVaGAZdS66ODytxfXrpiXIsPtPsXK8ld51TajboNZaabqBuHhLXM04+\nl953JhF+z2TqbMYwteJ2SXsS6Z+LiF3Vv8HBGwDQqoEBPCIekHRyAnkBANTQ5P9lH7H9XdsHbV+Y\n28n2ftsLthfOrZxpcDoAwGqjBvC/lPQLknZJOi7ps7kdI+JARMxHxPzs1NYRTwcAWGukAB4RT0XE\nckSsSPqCpN3tZgsAMMhIQ+ltXxIRx6vNmyU9OtQbY0VxNtHKmmoJz7Wa15iYPjWk+IZfS7XHKt/K\n37C3wde+9bVG7x+n7LXISfQgiDq9N+J04/PV6hXw8rnh963b26BOr5A2hnmnjpGpm8mSbOCh5q2Y\n7u9xluOVdK+nZF3OxJvsdAUNe9lEbvqHjGG6Ed4h6RpJF9k+KumTkq6xvUu9unJE0u/UOisAoLGB\nATwi9iWSvzSGvAAAamAkJgAUigAOAIUigANAoSa6oIMipJeXhtu3Rm+T7OlyPVnqaJiPvW+5tnke\n2pDsZVGvxTs5h0jjPNTMQp1W/joyPRMmbqPkozQt9LKptRBGrhdSojdMts4u9cfCuotxcAcOAIUi\ngANAoQjgAFAoAjgAFGrCjZhSDNvYkNut1sT2NAitm43QGDeuBs9xqlO/W7jGY2sUnrBWGiDbUGPK\ng5S6nwZ34ABQKAI4ABSKAA4AhSKAA0ChCOAAUKjJ9kKRmvcMmPTE9A0XdNgwOtLbYEPbCD1vaqo7\ndBsjGON3jztwACgUARwACkUAB4BCEcABoFDDLGp8uaS/lrRTvZGeByLi87a3S7pT0hXqLWx8S0Q8\nO76srhMa/zCscQ7RBhKGqXFLkn4vIq6S9DZJv2v7Kkm3SbovIq6UdF+1DQCYkIEBPCKOR8Qj1e+n\nJP1Q0qWSbpJ0qNrtkKT3jiuTAIB+tfqB275C0q9KelDSzog4Xr30M/UesaTes1/Sfkma87ZR8wkA\nWGPoh3a2Xyfp7yR9LCKeX/1a9OakTD4sjogDETEfEfOznmuUWQDAq4YK4LZn1AvefxMRf18lP2X7\nkur1SyQtjieLAIAUD5rQ3b2xtocknYyIj61K/1NJz0TEZ2zfJml7RHx8wLGelvREtXmRpBNNMr/B\ndbl8XS6bRPlK18XyvTEidqxNHCaAXy3pm5K+p1eXuPmEes/B75L0c+oF5Vsi4uSwubG9EBHzw+5f\nmi6Xr8tlkyhf6bpevtUGNmJGxL9Kys14c1272QEADIuRBwBQqPUM4AfW8dyT0OXydblsEuUrXdfL\n938GPgMHAGxMPEIBgEIRwAGgUBMP4Lb32P6x7ceq/uNFs33Q9qLtR1elbbd92PZPqp8Xrmcem7B9\nue37bf/A9vdtf7RK70QZbc/Z/pbt/6jK90dV+ptsP1jV0zttz653Xkdle9r2t23/Y7XdpbIdsf09\n29+xvVCldaJuDmOiAdz2tKS/kPRuSVdJ2lfNbFiy2yXtWZPWpZkauz4b5UuSro2It0raJWmP7bdJ\n+mNJn4uIX5T0rKQPrWMem/qoepPQvaJLZZOkd0TErlV9v7tSNwea9B34bkmPRcTjEXFO0lfUm9Ww\nWBHxgKS1A5g6M1Nj12ejjJ4Xqs2Z6l9IulbS31bpxZbP9mWSbpD0xWrb6kjZXkMn6uYwJh3AL5X0\n5Krto1Va1ww1U2NpRpmNsgTVI4bvqDefz2FJ/yXpuYhYqnYpuZ7+uaSP69VR1G9Qd8om9f7YfsP2\nw9XMp1KH6uYgtaaTRX0REbaL76u5djbK3o1cT+lljIhlSbtsXyDpbkm/vM5ZaoXtGyUtRsTDtq9Z\n7/yMydURccz2xZIO2/7R6hdLr5uDTPoO/Jiky1dtX1aldU2nZmrcLLNRRsRzku6X9HZJF9h+5Qan\n1Hr6G5LeY/uIeo8rr5X0eXWjbJKkiDhW/VxU74/vbnWwbuZMOoA/JOnKqhV8VtIHJN0z4TxMwj2S\nbq1+v1XSV9cxL41Uz0y/JOmHEfFnq17qRBlt76juvGV7q6Tr1XvOf7+k91W7FVm+iPiDiLgsIq5Q\n77v2LxHxW+pA2STJ9jbb57/yu6R3SXpUHambw5j4SEzbe9V7Ljct6WBEfHqiGWiZ7TskXaPeFJZP\nSfqkpH9Qg5kaN5JxzUa5Udj+FfUauqbVu6G5KyI+Zfvn1btr3S7p25J+OyJeWr+cNlM9Qvn9iLix\nK2WrynF3tblF0pcj4tO236AO1M1hMJQeAArFSEwAKBQBHAAKRQAHgEIRwAGgUARwACgUARwACkUA\nB4BC/S/XOV81LdmFAwAAAABJRU5ErkJggg==\n",
            "text/plain": [
              "<Figure size 432x288 with 1 Axes>"
            ]
          },
          "metadata": {
            "tags": []
          }
        }
      ]
>>>>>>> master
    },
    "colab_type": "code",
    "id": "gK9Cxgih7R_T",
    "outputId": "cd9df4c6-1b17-4079-bc90-dfe36e6c0418"
   },
   "outputs": [
    {
<<<<<<< HEAD
     "name": "stdout",
     "output_type": "stream",
     "text": [
      "/content/drive/My Drive/1260_mercator/01b.npy\n",
      "(1343, 21, 60)\n",
      "(1051, 21, 60)\n",
      "/content/drive/My Drive/1260_mercator/02a.npy\n",
      "(2394, 21, 60)\n",
      "(328, 21, 60)\n",
      "/content/drive/My Drive/1260_mercator/02b.npy\n",
      "(2722, 21, 60)\n",
      "(670, 21, 60)\n",
      "/content/drive/My Drive/1260_mercator/03a.npy\n",
      "(3392, 21, 60)\n",
      "(5026, 21, 60)\n",
      "/content/drive/My Drive/1260_mercator/03b.npy\n",
      "(8418, 21, 60)\n",
      "(2591, 21, 60)\n",
      "/content/drive/My Drive/1260_mercator/03c.npy\n",
      "(11009, 21, 60)\n",
      "(1330, 21, 60)\n",
      "/content/drive/My Drive/1260_mercator/04a.npy\n",
      "(12339, 21, 60)\n",
      "(1148, 21, 60)\n",
      "/content/drive/My Drive/1260_mercator/04b.npy\n",
      "(13487, 21, 60)\n",
      "(1200, 21, 60)\n",
      "/content/drive/My Drive/1260_mercator/04c.npy\n",
      "(14687, 21, 60)\n",
      "(826, 21, 60)\n",
      "/content/drive/My Drive/1260_mercator/09.npy\n",
      "(15513, 21, 60)\n",
      "(3322, 21, 60)\n",
      "/content/drive/My Drive/1260_mercator/10.npy\n",
      "(18835, 21, 60)\n",
      "(3027, 21, 60)\n",
      "/content/drive/My Drive/1260_mercator/12.npy\n",
      "(21862, 21, 60)\n",
      "(1709, 21, 60)\n",
      "/content/drive/My Drive/1260_mercator/14.npy\n",
      "(23571, 21, 60)\n",
      "(4942, 21, 60)\n",
      "/content/drive/My Drive/1260_mercator/15.npy\n",
      "(28513, 21, 60)\n",
      "(2306, 21, 60)\n",
      "/content/drive/My Drive/1260_mercator/17_a.npy\n",
      "(30819, 21, 60)\n",
      "(1019, 21, 60)\n",
      "/content/drive/My Drive/1260_mercator/17_b.npy\n",
      "(31838, 21, 60)\n",
      "(1071, 21, 60)\n",
      "/content/drive/My Drive/1260_mercator/18.npy\n",
      "(32909, 21, 60)\n",
      "(1601, 21, 60)\n",
      "/content/drive/My Drive/1260_mercator/19a.npy\n",
      "(34510, 21, 60)\n",
      "(1948, 21, 60)\n",
      "/content/drive/My Drive/1260_mercator/19b.npy\n",
      "(36458, 21, 60)\n",
      "(1048, 21, 60)\n",
      "/content/drive/My Drive/1260_mercator/20a.npy\n",
      "(37506, 21, 60)\n",
      "(1523, 21, 60)\n",
      "/content/drive/My Drive/1260_mercator/20b.npy\n",
      "(39029, 21, 60)\n",
      "(853, 21, 60)\n",
      "/content/drive/My Drive/1260_mercator/21a.npy\n",
      "(39882, 21, 60)\n",
      "(1965, 21, 60)\n",
      "/content/drive/My Drive/1260_mercator/21b.npy\n",
      "(41847, 21, 60)\n",
      "(1268, 21, 60)\n",
      "/content/drive/My Drive/1260_mercator/22.npy\n",
      "(43115, 21, 60)\n",
      "(1978, 21, 60)\n",
      "/content/drive/My Drive/1260_mercator/23.npy\n",
      "(45093, 21, 60)\n",
      "(1453, 21, 60)\n",
      "/content/drive/My Drive/1260_mercator/24.npy\n",
      "(46546, 21, 60)\n",
      "(3996, 21, 60)\n",
      "/content/drive/My Drive/1260_mercator/25a.npy\n",
      "(50542, 21, 60)\n",
      "(3936, 21, 60)\n",
      "/content/drive/My Drive/1260_mercator/25b.npy\n",
      "(54478, 21, 60)\n",
      "(974, 21, 60)\n",
      "/content/drive/My Drive/1260_mercator/25c.npy\n",
      "(55452, 21, 60)\n",
      "(2009, 21, 60)\n",
      "[[[-0.90220972 -0.90566774 -0.90566774 ... -0.90566774 -0.90566774\n",
      "   -0.90566774]\n",
      "  [-0.90220972 -0.90220972 -0.90220972 ... -0.90220972 -0.90220972\n",
      "   -0.90220972]\n",
      "  [-0.89295218 -0.89295218 -0.89295218 ... -0.89295218 -0.89295218\n",
      "   -0.89295218]\n",
      "  ...\n",
      "  [ 1.          1.          1.         ...  1.          1.\n",
      "    1.        ]\n",
      "  [ 1.          1.          1.         ...  1.          1.\n",
      "    1.        ]\n",
      "  [ 1.          1.          1.         ...  1.          1.\n",
      "    1.        ]]\n",
      "\n",
      " [[-0.90220972 -0.90566774 -0.90566774 ... -0.90566774 -0.90566774\n",
      "   -0.90566774]\n",
      "  [-0.90220972 -0.90220972 -0.90220972 ... -0.90220972 -0.90220972\n",
      "   -0.90220972]\n",
      "  [-0.89295218 -0.89295218 -0.89295218 ... -0.89295218 -0.89295218\n",
      "   -0.89295218]\n",
      "  ...\n",
      "  [ 1.          1.          1.         ...  1.          1.\n",
      "    1.        ]\n",
      "  [ 1.          1.          1.         ...  1.          1.\n",
      "    1.        ]\n",
      "  [ 1.          1.          1.         ...  1.          1.\n",
      "    1.        ]]\n",
      "\n",
      " [[-0.90220972 -0.90566774 -0.90566774 ... -0.90566774 -0.90566774\n",
      "   -0.90566774]\n",
      "  [-0.90220972 -0.90220972 -0.90220972 ... -0.90220972 -0.90220972\n",
      "   -0.90220972]\n",
      "  [-0.89295218 -0.89295218 -0.89295218 ... -0.89295218 -0.89295218\n",
      "   -0.89295218]\n",
      "  ...\n",
      "  [ 1.          1.          1.         ...  1.          1.\n",
      "    1.        ]\n",
      "  [ 1.          1.          1.         ...  1.          1.\n",
      "    1.        ]\n",
      "  [ 1.          1.          1.         ...  1.          1.\n",
      "    1.        ]]\n",
      "\n",
      " ...\n",
      "\n",
      " [[-0.89960554 -0.90315564 -0.90315564 ... -0.90315564 -0.90315564\n",
      "   -0.90315564]\n",
      "  [-0.89960554 -0.89960554 -0.89960554 ... -0.89960554 -0.89960554\n",
      "   -0.89960554]\n",
      "  [-0.89010147 -0.89010147 -0.89010147 ... -0.89010147 -0.89010147\n",
      "   -0.89010147]\n",
      "  ...\n",
      "  [-0.96287398 -0.96287398 -0.96287398 ... -0.96287398 -0.96287398\n",
      "   -0.96287398]\n",
      "  [-0.96634657 -0.96634657 -0.96634657 ... -0.96634657 -0.96634657\n",
      "   -0.96634657]\n",
      "  [-0.96757487 -0.96757487 -0.96757487 ... -0.96757487 -0.96757487\n",
      "   -0.96757487]]\n",
      "\n",
      " [[-0.89960554 -0.90315564 -0.90315564 ... -0.90315564 -0.90315564\n",
      "   -0.90315564]\n",
      "  [-0.89960554 -0.89960554 -0.89960554 ... -0.89960554 -0.89960554\n",
      "   -0.89960554]\n",
      "  [-0.89010147 -0.89010147 -0.89010147 ... -0.89010147 -0.89010147\n",
      "   -0.89010147]\n",
      "  ...\n",
      "  [-0.96287398 -0.96287398 -0.96287398 ... -0.96287398 -0.96287398\n",
      "   -0.96287398]\n",
      "  [-0.96634657 -0.96634657 -0.96634657 ... -0.96634657 -0.96634657\n",
      "   -0.96634657]\n",
      "  [-0.96757487 -0.96757487 -0.96757487 ... -0.96757487 -0.96757487\n",
      "   -0.96757487]]\n",
      "\n",
      " [[-0.89960554 -0.90315564 -0.90315564 ... -0.90315564 -0.90315564\n",
      "   -0.90315564]\n",
      "  [-0.89960554 -0.89960554 -0.89960554 ... -0.89960554 -0.89960554\n",
      "   -0.89960554]\n",
      "  [-0.89010147 -0.89010147 -0.89010147 ... -0.89010147 -0.89010147\n",
      "   -0.89010147]\n",
      "  ...\n",
      "  [-0.96287398 -0.96287398 -0.96287398 ... -0.96287398 -0.96287398\n",
      "   -0.96287398]\n",
      "  [-0.96634657 -0.96634657 -0.96634657 ... -0.96634657 -0.96634657\n",
      "   -0.96634657]\n",
      "  [-0.96757487 -0.96757487 -0.96757487 ... -0.96757487 -0.96757487\n",
      "   -0.96757487]]]\n"
     ]
    }
   ],
   "source": [
    "#Load Dataset\n",
    "def load_data():\n",
    "  path = '/content/drive/My Drive/1260_mercator'\n",
    "  x_train = np.load('/content/drive/My Drive/1260_mercator/01a.npy')\n",
    "\n",
    "  for filename in glob.glob(os.path.join(path, '*.npy')):\n",
    "    if(filename != '/content/drive/My Drive/1260_mercator/01a.npy'):\n",
    "      print(filename)\n",
    "      aux=np.load(filename)\n",
    "      print(x_train.shape)\n",
    "      print(aux.shape)\n",
    "      x_train=np.concatenate((x_train,aux),axis = 0)  \n",
    "\n",
    "  return x_train\n",
    "\n",
    "x_train = load_data()\n",
    "print(x_train)"
   ]
  },
  {
   "cell_type": "code",
   "execution_count": 0,
   "metadata": {
    "colab": {},
    "colab_type": "code",
    "id": "sflG0STWcq6P"
   },
   "outputs": [],
   "source": [
    "np.save('/content/drive/My Drive/1260_mercator/mercator_total.npy',x_train)"
   ]
  },
  {
   "cell_type": "code",
   "execution_count": 21,
   "metadata": {
    "colab": {
     "base_uri": "https://localhost:8080/",
     "height": 1000
=======
      "cell_type": "code",
      "metadata": {
        "id": "NDNOAoGX3J3g",
        "colab_type": "code",
        "colab": {
          "base_uri": "https://localhost:8080/",
          "height": 34
        },
        "outputId": "ddf494e9-7551-4560-9356-97d1e9e02e35"
      },
      "source": [
        "print(x_train[1].shape)"
      ],
      "execution_count": 18,
      "outputs": [
        {
          "output_type": "stream",
          "text": [
            "(21, 60)\n"
          ],
          "name": "stdout"
        }
      ]
    },
    {
      "cell_type": "code",
      "metadata": {
        "id": "UXPYKkoMwn03",
        "colab_type": "code",
        "colab": {}
      },
      "source": [
        "def adam_optimizer():\n",
        "  return Adam(lr=0.0002, beta_1=0.5)\n"
      ],
      "execution_count": 0,
      "outputs": []
>>>>>>> master
    },
    "colab_type": "code",
    "id": "jFVLioYX70Nb",
    "outputId": "bd26cdb2-d4e5-405f-ad90-4f3376a62bd2"
   },
   "outputs": [
    {
<<<<<<< HEAD
     "name": "stdout",
     "output_type": "stream",
     "text": [
      "[[[-1.06275942e+00 -3.15951529e-01 -4.41657452e-01 ... -1.60270959e-03\n",
      "   -1.24251739e+00 -3.33667097e-01]\n",
      "  [-7.32612118e-01 -5.06707648e-01 -1.22520025e+00 ... -1.44239202e-02\n",
      "   -8.43407220e-01 -1.40113398e+00]\n",
      "  [-6.22492139e-01 -3.29739773e-01 -1.84913079e+00 ... -8.07926924e-01\n",
      "   -1.65647618e+00 -3.26326119e-01]\n",
      "  ...\n",
      "  [ 5.18513281e-01  1.87080304e-01  4.93972266e-01 ...  5.85377201e-01\n",
      "    1.31765351e+00  1.00161279e+00]\n",
      "  [ 1.11441940e+00  1.04289672e+00  1.75142587e+00 ...  7.51896714e-01\n",
      "    1.47428320e+00  1.14842893e+00]\n",
      "  [ 7.40045827e-01  1.79567771e+00  5.16070446e-01 ...  7.96036468e-01\n",
      "    1.53292325e+00  8.27922246e-01]]\n",
      "\n",
      " [[-1.06847336e+00 -1.01327148e+00 -8.14788819e-01 ... -5.01709738e-01\n",
      "   -9.80994351e-01 -4.81501937e-01]\n",
      "  [-4.90931895e-01 -7.47658949e-01  2.76000995e-02 ... -1.09061846e+00\n",
      "   -7.70017282e-01 -6.78124578e-01]\n",
      "  [-3.43955072e-01  3.32348710e-04 -1.35272018e+00 ... -1.36140283e+00\n",
      "   -8.28724458e-01 -3.64040288e-01]\n",
      "  ...\n",
      "  [ 9.21640131e-01  1.08434405e+00  1.03825534e+00 ...  1.71899334e+00\n",
      "    5.16599509e-01  1.76389985e+00]\n",
      "  [ 1.66232123e+00  1.09071794e+00  1.52162317e+00 ...  1.21644324e+00\n",
      "    2.92625012e-01  1.13791536e+00]\n",
      "  [ 6.02836070e-01  4.95466019e-01  6.10192331e-01 ...  7.24194231e-01\n",
      "    9.43081396e-01  8.03204917e-01]]\n",
      "\n",
      " [[-6.89444139e-01 -6.57445376e-01 -5.74782420e-01 ... -1.42129432e+00\n",
      "   -8.12241984e-01 -1.23149204e+00]\n",
      "  [-1.84023265e+00  8.50903745e-02 -1.09274580e+00 ... -1.09999731e+00\n",
      "   -1.64876734e-01 -1.03183747e+00]\n",
      "  [-1.14154903e+00 -1.72186569e+00 -1.29103036e+00 ... -1.31719550e+00\n",
      "   -1.06917072e+00 -1.71153620e+00]\n",
      "  ...\n",
      "  [ 1.18925430e+00  9.54368927e-01  1.40263206e+00 ...  6.64955021e-01\n",
      "    1.84271149e+00  1.03679351e+00]\n",
      "  [ 4.63983241e-01  1.27843595e+00  5.60184778e-01 ...  1.30620381e+00\n",
      "    5.37633288e-01  8.72630387e-01]\n",
      "  [ 2.09109035e+00  1.07583540e+00  1.45267580e+00 ...  1.61625045e+00\n",
      "    8.37770071e-01  8.74649443e-01]]\n",
      "\n",
      " ...\n",
      "\n",
      " [[-1.36416504e+00 -1.15682939e+00 -8.91415764e-01 ... -1.23144491e+00\n",
      "   -1.52959149e+00 -4.50696970e-01]\n",
      "  [-1.10222031e-01 -1.78792616e+00 -8.97093963e-01 ...  1.85889895e-01\n",
      "   -6.97656973e-01 -2.84200445e-01]\n",
      "  [-1.19911723e+00 -1.28343823e+00 -1.00761075e+00 ... -9.23680139e-01\n",
      "   -1.76082187e-01 -1.42406428e+00]\n",
      "  ...\n",
      "  [-6.81557170e-01 -1.04669686e+00 -6.78087737e-01 ... -1.68913834e-01\n",
      "   -1.40709641e+00 -9.66368430e-01]\n",
      "  [-1.14500128e+00 -9.56753238e-01 -4.93194115e-01 ... -7.78358673e-01\n",
      "   -7.47085886e-01 -7.79585111e-01]\n",
      "  [-1.05070884e+00 -1.03441141e+00 -1.23801468e-01 ... -1.12559080e-01\n",
      "   -1.44238623e+00 -8.68657372e-01]]\n",
      "\n",
      " [[-7.92818070e-01 -1.39591221e+00 -4.70533557e-01 ... -7.17038642e-01\n",
      "   -2.84292272e-01 -1.26547480e-01]\n",
      "  [-5.67676491e-01  1.15467885e-01 -1.95751336e+00 ... -1.76068013e+00\n",
      "   -1.17884876e+00 -6.40887118e-01]\n",
      "  [-8.24801718e-01 -4.93811697e-01 -7.59922947e-01 ... -5.78624122e-01\n",
      "   -1.16546323e+00 -6.07251530e-01]\n",
      "  ...\n",
      "  [-1.17426534e+00 -1.27589903e+00 -9.03463892e-01 ... -6.35341815e-01\n",
      "   -6.24559706e-01 -1.05402559e+00]\n",
      "  [-1.28379657e+00 -4.50936692e-01 -5.76383794e-01 ... -9.68695103e-01\n",
      "   -1.47470979e+00 -8.52532678e-01]\n",
      "  [-6.76612362e-01 -2.46061469e-01 -1.25393079e+00 ...  5.22079152e-01\n",
      "   -1.20958124e+00 -1.79142808e+00]]\n",
      "\n",
      " [[-6.11494610e-01 -6.04587081e-01 -1.56036172e+00 ... -9.65207677e-01\n",
      "   -8.02598814e-01 -4.97867971e-01]\n",
      "  [-2.97154561e-01 -1.18461487e+00 -5.50746403e-01 ... -1.50849903e-02\n",
      "   -9.06013696e-01 -6.04220837e-01]\n",
      "  [-1.09867842e+00 -1.41573376e+00 -3.88453282e-01 ... -4.30417911e-01\n",
      "   -6.96631363e-01 -9.69999508e-01]\n",
      "  ...\n",
      "  [-9.32697188e-01 -1.16698299e+00 -1.04459523e+00 ... -1.67913899e+00\n",
      "   -1.23873173e+00 -1.03778894e+00]\n",
      "  [-1.44286961e+00 -1.52586110e+00 -9.09775206e-01 ... -1.40896059e+00\n",
      "   -8.41910058e-01 -1.51451385e+00]\n",
      "  [-8.16318870e-01 -2.38741601e-01 -4.18863570e-01 ... -1.08028606e+00\n",
      "   -1.05357594e+00 -1.07561888e+00]]]\n"
     ]
    }
   ],
   "source": [
    "#Add Noise to our MNNIST Dataset by sampling random values from Gaussian distribution by using np.random.normal() and adding it to our original images to change pixel values\n",
    "\n",
    "noise_factor = 0.5\n",
    "x_train_noisy = x_train + noise_factor * np.random.normal(loc=0.0, scale=1.0, size=x_train.shape)\n",
    "print(x_train_noisy)\n",
    "\n"
   ]
  },
  {
   "cell_type": "code",
   "execution_count": 0,
   "metadata": {
    "colab": {},
    "colab_type": "code",
    "id": "eVVD9lNUebln"
   },
   "outputs": [],
   "source": [
    "np.save('/content/drive/My Drive/1260_mercator/mercator_total_noisy1.npy',x_train_noisy)"
   ]
  },
  {
   "cell_type": "code",
   "execution_count": 25,
   "metadata": {
    "colab": {
     "base_uri": "https://localhost:8080/",
     "height": 183
=======
      "cell_type": "code",
      "metadata": {
        "id": "8TKrvOwUe9Wz",
        "colab_type": "code",
        "outputId": "2d826e00-d311-4770-9b52-776ba94dc954",
        "colab": {
          "base_uri": "https://localhost:8080/",
          "height": 459
        }
      },
      "source": [
        "# input matriz (21,60)\n",
        "# output array 128\n",
        "def create_encoder():\n",
        "  \n",
        "    encoder=Sequential()\n",
        "\n",
        "    encoder.add(Conv2D(32, kernel_size=(5, 5), strides=(1, 1),input_shape=(21,60,1), activation='tanh',name='e_conv2d_1'))\n",
        "    encoder.add(BatchNormalization())\n",
        "    #encoder.add(LeakyReLU(alpha=0.2))\n",
        "    encoder.add(MaxPooling2D(pool_size=(2, 2), strides=(1, 1),name='e_maxpool_1'))\n",
        "    \n",
        "    encoder.add(Conv2D(32, kernel_size=(5, 5), strides=(1, 1), activation='tanh',name='e_conv2d_2'))\n",
        "    encoder.add(BatchNormalization())\n",
        "    #encoder.add(LeakyReLU(alpha=0.2))\n",
        "    encoder.add(MaxPooling2D(pool_size=(2, 2), strides=(1, 1),name='e_maxpool_2'))\n",
        "    \n",
        "    encoder.add(Flatten())\n",
        "    encoder.add(Dense(units=128, activation='tanh'))\n",
        "    encoder.add(BatchNormalization())\n",
        "    \n",
        "    encoder.compile(loss='mse', optimizer=adam_optimizer())\n",
        "    encoder.name='encoder'\n",
        "    return encoder\n",
        "encoder = create_encoder()\n",
        "encoder.summary()"
      ],
      "execution_count": 24,
      "outputs": [
        {
          "output_type": "stream",
          "text": [
            "Model: \"encoder\"\n",
            "_________________________________________________________________\n",
            "Layer (type)                 Output Shape              Param #   \n",
            "=================================================================\n",
            "e_conv2d_1 (Conv2D)          (None, 17, 56, 32)        832       \n",
            "_________________________________________________________________\n",
            "batch_normalization_7 (Batch (None, 17, 56, 32)        128       \n",
            "_________________________________________________________________\n",
            "e_maxpool_1 (MaxPooling2D)   (None, 16, 55, 32)        0         \n",
            "_________________________________________________________________\n",
            "e_conv2d_2 (Conv2D)          (None, 12, 51, 32)        25632     \n",
            "_________________________________________________________________\n",
            "batch_normalization_8 (Batch (None, 12, 51, 32)        128       \n",
            "_________________________________________________________________\n",
            "e_maxpool_2 (MaxPooling2D)   (None, 11, 50, 32)        0         \n",
            "_________________________________________________________________\n",
            "flatten_7 (Flatten)          (None, 17600)             0         \n",
            "_________________________________________________________________\n",
            "dense_7 (Dense)              (None, 128)               2252928   \n",
            "_________________________________________________________________\n",
            "batch_normalization_9 (Batch (None, 128)               512       \n",
            "=================================================================\n",
            "Total params: 2,280,160\n",
            "Trainable params: 2,279,776\n",
            "Non-trainable params: 384\n",
            "_________________________________________________________________\n"
          ],
          "name": "stdout"
        }
      ]
>>>>>>> master
    },
    "colab_type": "code",
    "id": "X6iGztIrdr9S",
    "outputId": "99879809-79dc-4813-d719-38ad7a24e91d"
   },
   "outputs": [
    {
<<<<<<< HEAD
     "data": {
      "text/plain": [
       "<matplotlib.image.AxesImage at 0x7faa5dddcda0>"
=======
      "cell_type": "code",
      "metadata": {
        "id": "nGM3jxgy28pV",
        "colab_type": "code",
        "colab": {
          "base_uri": "https://localhost:8080/",
          "height": 289
        },
        "outputId": "5e044084-7a32-4cb8-daf7-bb3b5d6d847d"
      },
      "source": [
        "# input array 128\n",
        "# output matriz (21,60)\n",
        "def create_decoder():\n",
        "  decoder=Sequential()\n",
        "\n",
        "  decoder.add(Dense(128 * 5 * 3, input_dim=128, name='dense'))\n",
        "  decoder.add(Reshape((3, 5, 128), name='reshape'))\n",
        "\n",
        "  decoder.add(Conv2DTranspose(64, (5,5), strides=(7,3), padding='same', name='conv2dt_1'))\n",
        "  decoder.add(Conv2DTranspose(1, (5,5), strides=(1,4), padding='same', name='conv2dt_2'))\n",
        "\n",
        "  decoder.compile(loss='mse', optimizer=adam_optimizer())\n",
        "  decoder.name='decoder'\n",
        "  return decoder\n",
        "decoder = create_decoder()\n",
        "decoder.summary()"
      ],
      "execution_count": 34,
      "outputs": [
        {
          "output_type": "stream",
          "text": [
            "Model: \"decoder\"\n",
            "_________________________________________________________________\n",
            "Layer (type)                 Output Shape              Param #   \n",
            "=================================================================\n",
            "dense (Dense)                (None, 1920)              247680    \n",
            "_________________________________________________________________\n",
            "reshape (Reshape)            (None, 3, 5, 128)         0         \n",
            "_________________________________________________________________\n",
            "conv2dt_1 (Conv2DTranspose)  (None, 21, 15, 64)        204864    \n",
            "_________________________________________________________________\n",
            "conv2dt_2 (Conv2DTranspose)  (None, 21, 60, 1)         1601      \n",
            "=================================================================\n",
            "Total params: 454,145\n",
            "Trainable params: 454,145\n",
            "Non-trainable params: 0\n",
            "_________________________________________________________________\n"
          ],
          "name": "stdout"
        }
>>>>>>> master
      ]
     },
     "execution_count": 25,
     "metadata": {
      "tags": []
     },
     "output_type": "execute_result"
    },
    {
<<<<<<< HEAD
     "data": {
      "image/png": "iVBORw0KGgoAAAANSUhEUgAAAXAAAACVCAYAAABB56G6AAAABHNCSVQICAgIfAhkiAAAAAlwSFlz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\nDYC5h67HDQAAAABJRU5ErkJggg==\n",
      "text/plain": [
       "<Figure size 432x288 with 1 Axes>"
=======
      "cell_type": "code",
      "metadata": {
        "id": "nlevBVG661LH",
        "colab_type": "code",
        "colab": {
          "base_uri": "https://localhost:8080/",
          "height": 255
        },
        "outputId": "d5f6df42-a294-469f-cfce-8b5f4aff27e1"
      },
      "source": [
        "def autoencoder(encoder,decoder):\n",
        "  autoencoder_input = Input(shape=(21,60,1))\n",
        "  x = encoder(autoencoder_input)\n",
        "  autoencoder_output=decoder(x)\n",
        "  autoencoder = Model(inputs=[autoencoder_input], outputs=autoencoder_output)\n",
        "  autoencoder.compile(loss='mse', optimizer='adam')\n",
        "  autoencoder.name='autoencoder'\n",
        "  return autoencoder\n",
        "\n",
        "autoencoder=autoencoder(encoder,decoder)\n",
        "autoencoder.summary()"
      ],
      "execution_count": 35,
      "outputs": [
        {
          "output_type": "stream",
          "text": [
            "Model: \"autoencoder\"\n",
            "_________________________________________________________________\n",
            "Layer (type)                 Output Shape              Param #   \n",
            "=================================================================\n",
            "input_1 (InputLayer)         (None, 21, 60, 1)         0         \n",
            "_________________________________________________________________\n",
            "encoder (Sequential)         (None, 128)               2280160   \n",
            "_________________________________________________________________\n",
            "decoder (Sequential)         (None, 21, 60, 1)         454145    \n",
            "=================================================================\n",
            "Total params: 2,734,305\n",
            "Trainable params: 2,733,921\n",
            "Non-trainable params: 384\n",
            "_________________________________________________________________\n"
          ],
          "name": "stdout"
        }
>>>>>>> master
      ]
     },
     "metadata": {
      "tags": []
     },
     "output_type": "display_data"
    }
   ],
   "source": [
    "plt.imshow(x_train_noisy[100],vmin=-1,vmax=1)"
   ]
  },
  {
   "cell_type": "code",
   "execution_count": 0,
   "metadata": {
    "colab": {},
    "colab_type": "code",
    "id": "Rl-uCf6xf1Pl"
   },
   "outputs": [],
   "source": [
    "def adam_optimizer():\n",
    "    return Adam(lr=0.0002, beta_1=0.5)"
   ]
  },
  {
   "cell_type": "code",
   "execution_count": 53,
   "metadata": {
    "colab": {
     "base_uri": "https://localhost:8080/",
     "height": 425
    },
    "colab_type": "code",
    "id": "8TKrvOwUe9Wz",
    "outputId": "9c985e54-28c5-47ea-fc23-3315ed3fae26"
   },
   "outputs": [
    {
<<<<<<< HEAD
     "name": "stdout",
     "output_type": "stream",
     "text": [
      "Model: \"encoder\"\n",
      "_________________________________________________________________\n",
      "Layer (type)                 Output Shape              Param #   \n",
      "=================================================================\n",
      "e_conv2d_1 (Conv2D)          (None, 17, 56, 32)        832       \n",
      "_________________________________________________________________\n",
      "leaky_re_lu_13 (LeakyReLU)   (None, 17, 56, 32)        0         \n",
      "_________________________________________________________________\n",
      "e_maxpool_1 (MaxPooling2D)   (None, 16, 55, 32)        0         \n",
      "_________________________________________________________________\n",
      "e_conv2d_2 (Conv2D)          (None, 12, 51, 32)        25632     \n",
      "_________________________________________________________________\n",
      "leaky_re_lu_14 (LeakyReLU)   (None, 12, 51, 32)        0         \n",
      "_________________________________________________________________\n",
      "e_maxpool_2 (MaxPooling2D)   (None, 11, 50, 32)        0         \n",
      "_________________________________________________________________\n",
      "flatten_6 (Flatten)          (None, 17600)             0         \n",
      "_________________________________________________________________\n",
      "dense_6 (Dense)              (None, 128)               2252928   \n",
      "=================================================================\n",
      "Total params: 2,279,392\n",
      "Trainable params: 2,279,392\n",
      "Non-trainable params: 0\n",
      "_________________________________________________________________\n"
     ]
    }
   ],
   "source": [
    "# input matriz (21,60)\n",
    "# output array 125\n",
    "def create_encoder():\n",
    "  \n",
    "    encoder=Sequential()\n",
    "\n",
    "    encoder.add(Conv2D(32, kernel_size=(5, 5), strides=(1, 1),input_shape=(21,60,1),name='e_conv2d_1'))\n",
    "    encoder.add(LeakyReLU(alpha=0.2))\n",
    "    encoder.add(MaxPooling2D(pool_size=(2, 2), strides=(1, 1),name='e_maxpool_1'))\n",
    "    \n",
    "    encoder.add(Conv2D(32, kernel_size=(5, 5), strides=(1, 1),name='e_conv2d_2'))\n",
    "    encoder.add(LeakyReLU(alpha=0.2))\n",
    "    encoder.add(MaxPooling2D(pool_size=(2, 2), strides=(1, 1),name='e_maxpool_2'))\n",
    "    \n",
    "    encoder.add(Flatten())\n",
    "    encoder.add(Dense(units=128, activation='relu'))\n",
    "    \n",
    "    encoder.compile(loss='mse', optimizer=adam_optimizer())\n",
    "    encoder.name='encoder'\n",
    "    return encoder\n",
    "e = create_encoder()\n",
    "e.summary()"
   ]
  },
  {
   "cell_type": "code",
   "execution_count": 45,
   "metadata": {
    "colab": {
     "base_uri": "https://localhost:8080/",
     "height": 289
=======
      "cell_type": "code",
      "metadata": {
        "id": "C8Hydc9p8fkS",
        "colab_type": "code",
        "colab": {}
      },
      "source": [
        "def train(x_train, y_train, epochs, batch_size, sample_intervals):\n",
        "  for epoch in range(epochs):\n",
        "    #entrenar el decoder\n",
        "    latente = encoder.predict(x_train)\n",
        "    decoder.fit(latente,y_train,batch_size, epochs=1)\n",
        "    #entrenar el encoder\n",
        "    encoder.fit(x_train,latente,batch_size,epochs=1)\n",
        "    #guardar modelos y dibujar cada 20 epocas\n",
        "    encoder.save(\"encoder_prueba.h5\")\n",
        "    decoder.save(\"decoder_prueba.h5\")\n",
        "    print(\"Saved model to disk\")\n",
        "    \n"
      ],
      "execution_count": 0,
      "outputs": []
>>>>>>> master
    },
    "colab_type": "code",
    "id": "wzV_iy3KgTb6",
    "outputId": "8bb8098d-3f80-413e-c2b8-3feee66b112e"
   },
   "outputs": [
    {
<<<<<<< HEAD
     "name": "stdout",
     "output_type": "stream",
     "text": [
      "Model: \"decoder\"\n",
      "_________________________________________________________________\n",
      "Layer (type)                 Output Shape              Param #   \n",
      "=================================================================\n",
      "dense (Dense)                (None, 2688)              346752    \n",
      "_________________________________________________________________\n",
      "reshape (Reshape)            (None, 7, 3, 128)         0         \n",
      "_________________________________________________________________\n",
      "conv2dt_1 (Conv2DTranspose)  (None, 21, 15, 64)        204864    \n",
      "_________________________________________________________________\n",
      "conv2dt_2 (Conv2DTranspose)  (None, 21, 60, 1)         1601      \n",
      "=================================================================\n",
      "Total params: 553,217\n",
      "Trainable params: 553,217\n",
      "Non-trainable params: 0\n",
      "_________________________________________________________________\n"
     ]
    }
   ],
   "source": [
    "# input array 128\n",
    "# output matriz (21,60)\n",
    "\n",
    "def create_decoder():\n",
    "\n",
    "  generator=Sequential()\n",
    "\n",
    "  generator.add(Dense(128 * 7 * 3, input_dim=128, name='dense'))\n",
    "  generator.add(Reshape((7, 3, 128), name='reshape'))\n",
    "\n",
    "  generator.add(Conv2DTranspose(64, (5,5), strides=(3,5), padding='same', name='conv2dt_1'))\n",
    "  generator.add(Conv2DTranspose(1, (5,5), strides=(1,4), padding='same', name='conv2dt_2'))\n",
    "\n",
    "  generator.compile(loss='binary_crossentropy', optimizer=adam_optimizer())\n",
    "  generator.name='decoder'\n",
    "  return generator\n",
    "g = create_decoder()\n",
    "g.summary()"
   ]
  },
  {
   "cell_type": "code",
   "execution_count": 58,
   "metadata": {
    "colab": {
     "base_uri": "https://localhost:8080/",
     "height": 255
    },
    "colab_type": "code",
    "id": "57bLY-99hWYg",
    "outputId": "a0b6ef63-8566-4bc1-8907-f15ddc1ca4e5"
   },
   "outputs": [
    {
     "name": "stdout",
     "output_type": "stream",
     "text": [
      "Model: \"cuasi autoencoder\"\n",
      "_________________________________________________________________\n",
      "Layer (type)                 Output Shape              Param #   \n",
      "=================================================================\n",
      "input_11 (InputLayer)        (None, 20, 60, 1)         0         \n",
      "_________________________________________________________________\n",
      "encoder (Sequential)         (None, 128)               2279392   \n",
      "_________________________________________________________________\n",
      "decoder (Sequential)         (None, 21, 60, 1)         553217    \n",
      "=================================================================\n",
      "Total params: 2,832,609\n",
      "Trainable params: 2,832,609\n",
      "Non-trainable params: 0\n",
      "_________________________________________________________________\n"
     ]
=======
      "cell_type": "code",
      "metadata": {
        "id": "yotdxAh78EKJ",
        "colab_type": "code",
        "outputId": "23f5f8b3-71a4-41da-d52a-69a53ab76268",
        "colab": {
          "base_uri": "https://localhost:8080/",
          "height": 564
        }
      },
      "source": [
        "autoencoder.fit(x_train_noisy, x_train,epochs=100,batch_size=128,shuffle=True,validation_data=(x_test_noisy, x_test),)"
      ],
      "execution_count": 0,
      "outputs": [
        {
          "output_type": "error",
          "ename": "ValueError",
          "evalue": "ignored",
          "traceback": [
            "\u001b[0;31m---------------------------------------------------------------------------\u001b[0m",
            "\u001b[0;31mValueError\u001b[0m                                Traceback (most recent call last)",
            "\u001b[0;32m<ipython-input-14-9c3ac70c63d6>\u001b[0m in \u001b[0;36m<module>\u001b[0;34m()\u001b[0m\n\u001b[0;32m----> 1\u001b[0;31m \u001b[0mautoencoder\u001b[0m\u001b[0;34m.\u001b[0m\u001b[0mfit\u001b[0m\u001b[0;34m(\u001b[0m\u001b[0mx_train_noisy\u001b[0m\u001b[0;34m,\u001b[0m \u001b[0mx_train\u001b[0m\u001b[0;34m,\u001b[0m\u001b[0mepochs\u001b[0m\u001b[0;34m=\u001b[0m\u001b[0;36m100\u001b[0m\u001b[0;34m,\u001b[0m\u001b[0mbatch_size\u001b[0m\u001b[0;34m=\u001b[0m\u001b[0;36m128\u001b[0m\u001b[0;34m,\u001b[0m\u001b[0mshuffle\u001b[0m\u001b[0;34m=\u001b[0m\u001b[0;32mTrue\u001b[0m\u001b[0;34m,\u001b[0m\u001b[0mvalidation_data\u001b[0m\u001b[0;34m=\u001b[0m\u001b[0;34m(\u001b[0m\u001b[0mx_test_noisy\u001b[0m\u001b[0;34m,\u001b[0m \u001b[0mx_test\u001b[0m\u001b[0;34m)\u001b[0m\u001b[0;34m,\u001b[0m\u001b[0;34m)\u001b[0m\u001b[0;34m\u001b[0m\u001b[0;34m\u001b[0m\u001b[0m\n\u001b[0m",
            "\u001b[0;32m/usr/local/lib/python3.6/dist-packages/keras/engine/training.py\u001b[0m in \u001b[0;36mfit\u001b[0;34m(self, x, y, batch_size, epochs, verbose, callbacks, validation_split, validation_data, shuffle, class_weight, sample_weight, initial_epoch, steps_per_epoch, validation_steps, validation_freq, max_queue_size, workers, use_multiprocessing, **kwargs)\u001b[0m\n\u001b[1;32m   1087\u001b[0m             \u001b[0msample_weight\u001b[0m\u001b[0;34m=\u001b[0m\u001b[0msample_weight\u001b[0m\u001b[0;34m,\u001b[0m\u001b[0;34m\u001b[0m\u001b[0;34m\u001b[0m\u001b[0m\n\u001b[1;32m   1088\u001b[0m             \u001b[0mclass_weight\u001b[0m\u001b[0;34m=\u001b[0m\u001b[0mclass_weight\u001b[0m\u001b[0;34m,\u001b[0m\u001b[0;34m\u001b[0m\u001b[0;34m\u001b[0m\u001b[0m\n\u001b[0;32m-> 1089\u001b[0;31m             batch_size=batch_size)\n\u001b[0m\u001b[1;32m   1090\u001b[0m \u001b[0;34m\u001b[0m\u001b[0m\n\u001b[1;32m   1091\u001b[0m         \u001b[0;31m# Prepare validation data.\u001b[0m\u001b[0;34m\u001b[0m\u001b[0;34m\u001b[0m\u001b[0;34m\u001b[0m\u001b[0m\n",
            "\u001b[0;32m/usr/local/lib/python3.6/dist-packages/keras/engine/training.py\u001b[0m in \u001b[0;36m_standardize_user_data\u001b[0;34m(self, x, y, sample_weight, class_weight, check_array_lengths, batch_size)\u001b[0m\n\u001b[1;32m    755\u001b[0m             \u001b[0mfeed_input_shapes\u001b[0m\u001b[0;34m,\u001b[0m\u001b[0;34m\u001b[0m\u001b[0;34m\u001b[0m\u001b[0m\n\u001b[1;32m    756\u001b[0m             \u001b[0mcheck_batch_axis\u001b[0m\u001b[0;34m=\u001b[0m\u001b[0;32mFalse\u001b[0m\u001b[0;34m,\u001b[0m  \u001b[0;31m# Don't enforce the batch size.\u001b[0m\u001b[0;34m\u001b[0m\u001b[0;34m\u001b[0m\u001b[0m\n\u001b[0;32m--> 757\u001b[0;31m             exception_prefix='input')\n\u001b[0m\u001b[1;32m    758\u001b[0m \u001b[0;34m\u001b[0m\u001b[0m\n\u001b[1;32m    759\u001b[0m         \u001b[0;32mif\u001b[0m \u001b[0my\u001b[0m \u001b[0;32mis\u001b[0m \u001b[0;32mnot\u001b[0m \u001b[0;32mNone\u001b[0m\u001b[0;34m:\u001b[0m\u001b[0;34m\u001b[0m\u001b[0;34m\u001b[0m\u001b[0m\n",
            "\u001b[0;32m/usr/local/lib/python3.6/dist-packages/keras/engine/training_utils.py\u001b[0m in \u001b[0;36mstandardize_input_data\u001b[0;34m(data, names, shapes, check_batch_axis, exception_prefix)\u001b[0m\n\u001b[1;32m    129\u001b[0m                         \u001b[0;34m': expected '\u001b[0m \u001b[0;34m+\u001b[0m \u001b[0mnames\u001b[0m\u001b[0;34m[\u001b[0m\u001b[0mi\u001b[0m\u001b[0;34m]\u001b[0m \u001b[0;34m+\u001b[0m \u001b[0;34m' to have '\u001b[0m \u001b[0;34m+\u001b[0m\u001b[0;34m\u001b[0m\u001b[0;34m\u001b[0m\u001b[0m\n\u001b[1;32m    130\u001b[0m                         \u001b[0mstr\u001b[0m\u001b[0;34m(\u001b[0m\u001b[0mlen\u001b[0m\u001b[0;34m(\u001b[0m\u001b[0mshape\u001b[0m\u001b[0;34m)\u001b[0m\u001b[0;34m)\u001b[0m \u001b[0;34m+\u001b[0m \u001b[0;34m' dimensions, but got array '\u001b[0m\u001b[0;34m\u001b[0m\u001b[0;34m\u001b[0m\u001b[0m\n\u001b[0;32m--> 131\u001b[0;31m                         'with shape ' + str(data_shape))\n\u001b[0m\u001b[1;32m    132\u001b[0m                 \u001b[0;32mif\u001b[0m \u001b[0;32mnot\u001b[0m \u001b[0mcheck_batch_axis\u001b[0m\u001b[0;34m:\u001b[0m\u001b[0;34m\u001b[0m\u001b[0;34m\u001b[0m\u001b[0m\n\u001b[1;32m    133\u001b[0m                     \u001b[0mdata_shape\u001b[0m \u001b[0;34m=\u001b[0m \u001b[0mdata_shape\u001b[0m\u001b[0;34m[\u001b[0m\u001b[0;36m1\u001b[0m\u001b[0;34m:\u001b[0m\u001b[0;34m]\u001b[0m\u001b[0;34m\u001b[0m\u001b[0;34m\u001b[0m\u001b[0m\n",
            "\u001b[0;31mValueError\u001b[0m: Error when checking input: expected input_2 to have 4 dimensions, but got array with shape (60000, 28, 28)"
          ]
        }
      ]
>>>>>>> master
    }
   ],
   "source": [
    "def c_autoencoder(encoder, decoder):\n",
    "\n",
    "  c_autoencoder_input = Input(shape=(20,60,1))\n",
    "  x = encoder(c_autoencoder_input)\n",
    "  p = Input(shape=(3,))\n",
    "  c_autoencoder_output=decoder(x)\n",
    "  autoencoder = Model(inputs=[c_autoencoder_input], outputs=c_autoencoder_output)\n",
    "  autoencoder.compile(loss='binary_crossentropy', optimizer='adam')\n",
    "  autoencoder.name='cuasi autoencoder'\n",
    "  return autoencoder\n",
    "\n",
    "autoencoder=c_autoencoder(e,g)\n",
    "autoencoder.summary()"
   ]
  },
  {
   "cell_type": "code",
   "execution_count": 0,
   "metadata": {
    "colab": {},
    "colab_type": "code",
    "id": "yotdxAh78EKJ"
   },
   "outputs": [],
   "source": [
    "autoencoder.fit(x_train_noisy, x_train,epochs=100,batch_size=128,shuffle=True,validation_data=(x_train_noisy, x_train),)"
   ]
  }
 ],
 "metadata": {
  "colab": {
   "include_colab_link": true,
   "name": "Autoencoder.ipynb",
   "provenance": []
  },
  "kernelspec": {
   "display_name": "Python 3",
   "language": "python",
   "name": "python3"
  },
  "language_info": {
   "codemirror_mode": {
    "name": "ipython",
    "version": 3
   },
   "file_extension": ".py",
   "mimetype": "text/x-python",
   "name": "python",
   "nbconvert_exporter": "python",
   "pygments_lexer": "ipython3",
   "version": "3.7.4"
  }
 },
 "nbformat": 4,
 "nbformat_minor": 1
}
