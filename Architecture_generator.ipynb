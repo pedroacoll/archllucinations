{
 "cells": [
  {
   "cell_type": "code",
   "execution_count": 0,
   "metadata": {
    "colab": {},
    "colab_type": "code",
    "id": "M39j-Nc163dY"
   },
   "outputs": [],
   "source": [
    "from __future__ import print_function, division\n",
    "\n",
    "from keras.datasets import mnist\n",
    "from keras.layers import Input, Dense, Reshape, Flatten, Dropout, multiply\n",
    "from keras.layers import BatchNormalization, Activation, Embedding, ZeroPadding2D, Concatenate\n",
    "from keras.layers.advanced_activations import LeakyReLU\n",
    "from keras.layers.convolutional import UpSampling2D, Conv2D\n",
    "from keras.models import Sequential, Model, load_model\n",
    "from keras.optimizers import Adam\n",
    "\n",
    "import matplotlib.pyplot as plt\n",
    "\n",
    "import numpy as np"
   ]
  },
  {
   "cell_type": "code",
   "execution_count": 4,
   "metadata": {
    "colab": {
     "base_uri": "https://localhost:8080/",
     "height": 411
    },
    "colab_type": "code",
    "id": "WcxECMgE729x",
    "outputId": "e43389db-f959-4206-c8fe-51a53aa3858f"
   },
   "outputs": [
    {
     "name": "stdout",
     "output_type": "stream",
     "text": [
      "WARNING:tensorflow:From /usr/local/lib/python3.6/dist-packages/keras/backend/tensorflow_backend.py:541: The name tf.placeholder is deprecated. Please use tf.compat.v1.placeholder instead.\n",
      "\n",
      "WARNING:tensorflow:From /usr/local/lib/python3.6/dist-packages/keras/backend/tensorflow_backend.py:4432: The name tf.random_uniform is deprecated. Please use tf.random.uniform instead.\n",
      "\n",
      "WARNING:tensorflow:From /usr/local/lib/python3.6/dist-packages/keras/backend/tensorflow_backend.py:66: The name tf.get_default_graph is deprecated. Please use tf.compat.v1.get_default_graph instead.\n",
      "\n",
      "WARNING:tensorflow:From /usr/local/lib/python3.6/dist-packages/keras/backend/tensorflow_backend.py:148: The name tf.placeholder_with_default is deprecated. Please use tf.compat.v1.placeholder_with_default instead.\n",
      "\n",
      "WARNING:tensorflow:From /usr/local/lib/python3.6/dist-packages/keras/backend/tensorflow_backend.py:190: The name tf.get_default_session is deprecated. Please use tf.compat.v1.get_default_session instead.\n",
      "\n",
      "WARNING:tensorflow:From /usr/local/lib/python3.6/dist-packages/keras/backend/tensorflow_backend.py:197: The name tf.ConfigProto is deprecated. Please use tf.compat.v1.ConfigProto instead.\n",
      "\n",
      "WARNING:tensorflow:From /usr/local/lib/python3.6/dist-packages/keras/backend/tensorflow_backend.py:203: The name tf.Session is deprecated. Please use tf.compat.v1.Session instead.\n",
      "\n",
      "WARNING:tensorflow:From /usr/local/lib/python3.6/dist-packages/keras/backend/tensorflow_backend.py:207: The name tf.global_variables is deprecated. Please use tf.compat.v1.global_variables instead.\n",
      "\n",
      "WARNING:tensorflow:From /usr/local/lib/python3.6/dist-packages/keras/backend/tensorflow_backend.py:216: The name tf.is_variable_initialized is deprecated. Please use tf.compat.v1.is_variable_initialized instead.\n",
      "\n",
      "WARNING:tensorflow:From /usr/local/lib/python3.6/dist-packages/keras/backend/tensorflow_backend.py:223: The name tf.variables_initializer is deprecated. Please use tf.compat.v1.variables_initializer instead.\n",
      "\n"
     ]
    },
    {
     "name": "stderr",
     "output_type": "stream",
     "text": [
      "/usr/local/lib/python3.6/dist-packages/keras/engine/saving.py:310: UserWarning: No training configuration found in save file: the model was *not* compiled. Compile it manually.\n",
      "  warnings.warn('No training configuration found in save file: '\n"
     ]
    }
   ],
   "source": [
    "model=load_model('generator.h5')"
   ]
  },
  {
   "cell_type": "code",
   "execution_count": 14,
   "metadata": {
    "colab": {
     "base_uri": "https://localhost:8080/",
     "height": 34
    },
    "colab_type": "code",
    "id": "9vwGMR999IZl",
    "outputId": "1580fde6-3712-4b9e-8784-fe2ed52a0481"
   },
   "outputs": [
    {
     "name": "stdout",
     "output_type": "stream",
     "text": [
      "(3322, 128)\n"
     ]
    }
   ],
   "source": [
    "noise= np.random.random((3322,128))\n",
    "print(noise.shape)"
   ]
  },
  {
   "cell_type": "code",
   "execution_count": 15,
   "metadata": {
    "colab": {
     "base_uri": "https://localhost:8080/",
     "height": 34
    },
    "colab_type": "code",
    "id": "vjrUBZiS8rg0",
    "outputId": "850cb0d6-014d-4570-fe07-783faeaba2aa"
   },
   "outputs": [
    {
     "name": "stdout",
     "output_type": "stream",
     "text": [
      "(3322, 4)\n"
     ]
    }
   ],
   "source": [
    "point_data=np.genfromtxt('09_puntos.csv',delimiter=',')\n",
    "print(point_data.shape)"
   ]
  },
  {
   "cell_type": "code",
   "execution_count": 16,
   "metadata": {
    "colab": {
     "base_uri": "https://localhost:8080/",
     "height": 238
    },
    "colab_type": "code",
    "id": "wwP076Ev9S2M",
    "outputId": "284cfefc-d72d-4670-fead-cde125558f32"
   },
   "outputs": [
    {
     "data": {
      "text/plain": [
       "array([[ 5.74468139e-01,  5.34016707e-01,  8.97608570e-01, ...,\n",
       "         8.18387774e-02, -6.29030064e-02,  0.00000000e+00],\n",
       "       [ 7.48444904e-01,  9.07345703e-01,  2.43504656e-01, ...,\n",
       "         8.27074686e-02, -6.29030064e-02,  3.01204819e-04],\n",
       "       [ 9.17916865e-01,  9.52199423e-02,  5.26275897e-02, ...,\n",
       "         8.35765956e-02, -6.29030064e-02,  6.02409639e-04],\n",
       "       ...,\n",
       "       [ 6.87891849e-01,  4.52573625e-01,  7.30459271e-02, ...,\n",
       "         5.48536851e-02,  3.68461931e-02,  9.99698795e-01],\n",
       "       [ 5.45686437e-01,  5.54746316e-01,  3.17940002e-01, ...,\n",
       "         8.27074686e-02, -6.29030064e-02,  3.01204819e-04],\n",
       "       [ 8.00156958e-01,  6.06793747e-01,  4.26413491e-01, ...,\n",
       "         2.41198484e-01, -6.29030064e-02,  4.96987952e-02]])"
      ]
     },
     "execution_count": 16,
     "metadata": {
      "tags": []
     },
     "output_type": "execute_result"
    }
   ],
   "source": [
    "predict_concat=np.concatenate((noise,point_data), axis=-1)\n",
    "predict_concat"
   ]
  },
  {
   "cell_type": "code",
   "execution_count": 17,
   "metadata": {
    "colab": {
     "base_uri": "https://localhost:8080/",
     "height": 238
    },
    "colab_type": "code",
    "id": "RgQ7Sab58IBJ",
    "outputId": "6e2bd13d-1058-4252-cc81-285f247e2ba6"
   },
   "outputs": [
    {
     "data": {
      "text/plain": [
       "array([[-0.22489767, -0.97032994, -0.75910455, ..., -0.69101524,\n",
       "        -0.7519198 , -0.5867695 ],\n",
       "       [-0.82301176, -0.9702784 , -0.96875244, ..., -0.1585449 ,\n",
       "        -0.31256372, -0.03246684],\n",
       "       [-0.97196233, -0.9979214 , -0.98168814, ...,  0.9078708 ,\n",
       "         0.95203745,  0.9955975 ],\n",
       "       ...,\n",
       "       [-0.8296431 , -0.9600024 , -0.9708083 , ..., -0.96230763,\n",
       "        -0.94106406, -0.92166686],\n",
       "       [ 0.21782546, -0.96263623, -0.5741611 , ..., -0.13829239,\n",
       "        -0.6838268 , -0.1751034 ],\n",
       "       [-0.47720322, -0.99163336, -0.87542784, ..., -0.34831432,\n",
       "        -0.4928247 , -0.0624612 ]], dtype=float32)"
      ]
     },
     "execution_count": 17,
     "metadata": {
      "tags": []
     },
     "output_type": "execute_result"
    }
   ],
   "source": [
    "distance_predicted=model.predict([noise, point_data])\n",
    "distance_predicted"
   ]
  },
  {
   "cell_type": "code",
   "execution_count": 0,
   "metadata": {
    "colab": {},
    "colab_type": "code",
    "id": "XBbWv1cc9BQp"
   },
   "outputs": [],
   "source": [
    "np.savetxt('191130_test.csv',distance_predicted,delimiter=',')"
   ]
  },
  {
   "cell_type": "code",
   "execution_count": 0,
   "metadata": {
    "colab": {},
    "colab_type": "code",
    "id": "UykArw6pAjaq"
   },
   "outputs": [],
   "source": []
  }
 ],
 "metadata": {
  "accelerator": "GPU",
  "colab": {
   "name": "Architecture_generator.ipynb",
   "provenance": []
  },
  "kernelspec": {
   "display_name": "Python 3",
   "language": "python",
   "name": "python3"
  },
  "language_info": {
   "codemirror_mode": {
    "name": "ipython",
    "version": 3
   },
   "file_extension": ".py",
   "mimetype": "text/x-python",
   "name": "python",
   "nbconvert_exporter": "python",
   "pygments_lexer": "ipython3",
   "version": "3.7.4"
  }
 },
 "nbformat": 4,
 "nbformat_minor": 1
}
