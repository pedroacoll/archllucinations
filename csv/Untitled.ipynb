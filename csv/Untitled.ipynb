{
 "cells": [
  {
   "cell_type": "code",
   "execution_count": 18,
   "metadata": {},
   "outputs": [],
   "source": [
    "import matplotlib.pyplot as plt\n",
    "import numpy as np\n",
    "import csv\n",
    "import os"
   ]
  },
  {
   "cell_type": "code",
   "execution_count": 19,
   "metadata": {},
   "outputs": [],
   "source": [
    "directory_merc='/Users/pedroguillermarnanzcoll/Documents/AI/repo/dataset/1260/1260_mercator'\n",
    "directory_norm='/Users/pedroguillermarnanzcoll/Documents/AI/repo/dataset/1260/1260_normalized'"
   ]
  },
  {
   "cell_type": "code",
   "execution_count": null,
   "metadata": {},
   "outputs": [],
   "source": [
    "with open(directory_norm+'/14.csv',\"r+\") as file:\n",
    "    csv_in = csv.reader(file, delimiter=\",\")\n",
    "    a=[]\n",
    "    for indice,row in enumerate(csv_in):\n",
    "        matriz=np.asarray(row[5:]).reshape(60,21).T.astype(np.float)\n",
    "        plt.axis('off')\n",
    "        plt.imshow(matriz, interpolation='bilinear')\n",
    "        plt.savefig(directory_merc+'14'+'_'+str(format(indice,'05d'))+'.png')\n",
    "\n",
    "        #a.append(matriz)\n"
   ]
  },
  {
   "cell_type": "code",
   "execution_count": null,
   "metadata": {},
   "outputs": [],
   "source": []
  }
 ],
 "metadata": {
  "kernelspec": {
   "display_name": "Python 3",
   "language": "python",
   "name": "python3"
  },
  "language_info": {
   "codemirror_mode": {
    "name": "ipython",
    "version": 3
   },
   "file_extension": ".py",
   "mimetype": "text/x-python",
   "name": "python",
   "nbconvert_exporter": "python",
   "pygments_lexer": "ipython3",
   "version": "3.7.4"
  }
 },
 "nbformat": 4,
 "nbformat_minor": 2
}
